{
 "cells": [
  {
   "cell_type": "code",
   "execution_count": 1,
   "id": "2a6ae787",
   "metadata": {},
   "outputs": [
    {
     "data": {
      "text/plain": [
       "True"
      ]
     },
     "execution_count": 1,
     "metadata": {},
     "output_type": "execute_result"
    }
   ],
   "source": [
    "from dotenv import load_dotenv\n",
    "load_dotenv()"
   ]
  },
  {
   "cell_type": "code",
   "execution_count": 2,
   "id": "7c83464e",
   "metadata": {},
   "outputs": [],
   "source": [
    "import re, os, json\n",
    "from textwrap import dedent\n",
    "from pprint import pprint\n",
    "\n",
    "import warnings\n",
    "warnings.filterwarnings(\"ignore\")"
   ]
  },
  {
   "cell_type": "code",
   "execution_count": null,
   "id": "a3644248",
   "metadata": {},
   "outputs": [],
   "source": [
    "from typing import TypedDict, List\n",
    "from langgraph.graph import StateGraph, START, END\n",
    "from IPython.display import Image, display\n",
    "\n",
    "class DocumentState(TypedDict):\n",
    "    query: str\n",
    "    documents: List[str]\n",
    "    \n",
    "def node_1(state: DocumentState) -> DocumentState:\n",
    "    print(\"--node 1 (query update)\")\n",
    "    query  = state[\"query\"]\n",
    "    return {'query' : query}\n",
    "\n",
    "def node_2(state: DocumentState) -> DocumentState:\n",
    "    print(\"--node 2 (add documents)\")\n",
    "    return {\"documents\": ['doc1.pdf', 'doc2.pdf', 'doc3.pdf']}\n",
    "\n",
    "def node_3(state: DocumentState) -> DocumentState:\n",
    "    print(\"--node 3 (add more documents)\")\n",
    "    return {'documents': ['doc2.pdf', 'doc4.pdf', 'doc5.pdf']}\n",
    "\n",
    "bulider = StateGraph(DocumentState)\n",
    "bulider.add_node(\"node_1\", node_1)\n",
    "bulider.add_node(\"node_2\", node_2)\n",
    "bulider.add_node(\"node_3\", node_3)\n",
    "\n",
    "bulider.add_edge(START, \"node_1\")\n",
    "bulider.add_edge(\"node_1\", \"node_2\")\n",
    "bulider.add_edge(\"node_2\", \"node_3\")\n",
    "bulider.add_edge(\"node_3\", END)\n",
    "\n",
    "graph = bulider.compile()\n"
   ]
  },
  {
   "cell_type": "code",
   "execution_count": 6,
   "id": "7d3a8047",
   "metadata": {},
   "outputs": [
    {
     "name": "stdout",
     "output_type": "stream",
     "text": [
      "--node 1 (query update)\n",
      "--node 2 (add documents)\n",
      "--node 3 (add more documents)\n",
      "최종 상태: {'query': '채식주의자를 위한 비건 음식을 추천해주세요', 'documents': ['doc2.pdf', 'doc4.pdf', 'doc5.pdf']}\n"
     ]
    }
   ],
   "source": [
    "initial_state = {\"query\":\"채식주의자를 위한 비건 음식을 추천해주세요\", \"documents\": None}\n",
    "final_state = graph.invoke(initial_state)\n",
    "print(\"최종 상태:\", final_state)"
   ]
  },
  {
   "cell_type": "code",
   "execution_count": 7,
   "id": "c69508a2",
   "metadata": {},
   "outputs": [],
   "source": [
    "from operator import add\n",
    "from typing import Annotated, TypedDict\n",
    "class ReducerState(TypedDict):\n",
    "    query: str\n",
    "    documents: Annotated[List[str], add]\n",
    "    \n",
    "def node_1(state: ReducerState) -> ReducerState:\n",
    "    print(\"--node 1 (query update)\")\n",
    "    query  = state[\"query\"]\n",
    "    return {'query' : query}\n",
    "\n",
    "def node_2(state: ReducerState) -> ReducerState:\n",
    "    print(\"--node 2 (add documents)\")\n",
    "    return {\"documents\": ['doc1.pdf', 'doc2.pdf', 'doc3.pdf']}\n",
    "\n",
    "def node_3(state: ReducerState) -> ReducerState:\n",
    "    print(\"--node 3 (add more documents)\")\n",
    "    return {'documents': ['doc2.pdf', 'doc4.pdf', 'doc5.pdf']}\n",
    "\n",
    "bulider = StateGraph(ReducerState)\n",
    "bulider.add_node(\"node_1\", node_1)\n",
    "bulider.add_node(\"node_2\", node_2)\n",
    "bulider.add_node(\"node_3\", node_3)\n",
    "\n",
    "bulider.add_edge(START, \"node_1\")\n",
    "bulider.add_edge(\"node_1\", \"node_2\")\n",
    "bulider.add_edge(\"node_2\", \"node_3\")\n",
    "bulider.add_edge(\"node_3\", END)\n",
    "\n",
    "graph = bulider.compile()"
   ]
  },
  {
   "cell_type": "code",
   "execution_count": null,
   "id": "8e389429",
   "metadata": {},
   "outputs": [
    {
     "name": "stdout",
     "output_type": "stream",
     "text": [
      "--node 1 (query update)\n",
      "--node 2 (add documents)\n",
      "--node 3 (add more documents)\n",
      "최종 상태: {'query': '채식주의자를 위한 비건 음식을 추천해주세요', 'documents': ['doc1.pdf', 'doc2.pdf', 'doc3.pdf', 'doc2.pdf', 'doc4.pdf', 'doc5.pdf']}\n"
     ]
    }
   ],
   "source": [
    "initial_state = {\"query\":\"채식주의자를 위한 비건 음식을 추천해주세요\", \"documents\": []}\n",
    "final_state = graph.invoke(initial_state)\n",
    "print(\"최종 상태:\", final_state)"
   ]
  },
  {
   "cell_type": "code",
   "execution_count": 10,
   "id": "22679b64",
   "metadata": {},
   "outputs": [],
   "source": [
    "from typing import TypedDict, List, Annotated\n",
    "\n",
    "def reduce_unique_dociments(left: list | None, right: list | None) -> list:\n",
    "    \"\"\"_summary_\n",
    "    Combine two lists of documents, removing duplicates.\n",
    "    Args:\n",
    "        left (list | None): _description_\n",
    "        right (list | None): _description_\n",
    "\n",
    "    Returns:\n",
    "        list: _description_\n",
    "    \"\"\"\n",
    "    if not left:\n",
    "        left = []\n",
    "    if not right:\n",
    "        right = []\n",
    "    return list(set(left + right))\n",
    "\n",
    "class CustomReducerState(TypedDict):\n",
    "    query: str\n",
    "    documents: Annotated[List[str], reduce_unique_dociments]\n",
    "    \n",
    "def node_1(state: CustomReducerState) -> CustomReducerState:\n",
    "    print(\"--node 1 (query update)\")\n",
    "    query  = state[\"query\"]\n",
    "    return {'query' : query}\n",
    "\n",
    "def node_2(state: CustomReducerState) -> CustomReducerState:\n",
    "    print(\"--node 2 (add documents)\")\n",
    "    return {\"documents\": ['doc1.pdf', 'doc2.pdf', 'doc3.pdf']}\n",
    "\n",
    "def node_3(state: CustomReducerState) -> CustomReducerState:\n",
    "    print(\"--node 3 (add more documents)\")\n",
    "    return {'documents': ['doc2.pdf', 'doc4.pdf', 'doc5.pdf']}\n",
    "\n",
    "bulider = StateGraph(CustomReducerState)\n",
    "bulider.add_node(\"node_1\", node_1)\n",
    "bulider.add_node(\"node_2\", node_2)\n",
    "bulider.add_node(\"node_3\", node_3)\n",
    "\n",
    "bulider.add_edge(START, \"node_1\")\n",
    "bulider.add_edge(\"node_1\", \"node_2\")\n",
    "bulider.add_edge(\"node_2\", \"node_3\")\n",
    "bulider.add_edge(\"node_3\", END)\n",
    "\n",
    "graph = bulider.compile()\n"
   ]
  },
  {
   "cell_type": "code",
   "execution_count": 11,
   "id": "5f553b76",
   "metadata": {},
   "outputs": [
    {
     "name": "stdout",
     "output_type": "stream",
     "text": [
      "--node 1 (query update)\n",
      "--node 2 (add documents)\n",
      "--node 3 (add more documents)\n",
      "최종 상태: {'query': '채식주의자를 위한 비건 음식을 추천해주세요', 'documents': ['doc3.pdf', 'doc4.pdf', 'doc1.pdf', 'doc2.pdf', 'doc5.pdf']}\n"
     ]
    }
   ],
   "source": [
    "initial_state = {\"query\":\"채식주의자를 위한 비건 음식을 추천해주세요\", \"documents\": []}\n",
    "final_state = graph.invoke(initial_state)\n",
    "print(\"최종 상태:\", final_state)"
   ]
  },
  {
   "cell_type": "code",
   "execution_count": 12,
   "id": "1eb87d40",
   "metadata": {},
   "outputs": [],
   "source": [
    "from typing import Annotated\n",
    "from langchain_core.messages import AnyMessage\n",
    "from langgraph.graph.message import add_messages\n",
    "\n",
    "class GraphState(TypedDict):\n",
    "    messages : Annotated[list[AnyMessage], add_messages]\n",
    "    \n"
   ]
  },
  {
   "cell_type": "code",
   "execution_count": null,
   "id": "25e44a0f",
   "metadata": {},
   "outputs": [],
   "source": [
    "from langgraph.graph import MessagesState\n",
    "from typing import List\n",
    "from langchain_core.documents import Document\n",
    "\n",
    "class GraphState(MessagesState):\n",
    "    #messages 키는 기본적으로 제공, 다른 키를 추가 가능.\n",
    "    documents: List[Document]\n",
    "    grade : float\n",
    "    #무한루프 방지용\n",
    "    num_generation : int"
   ]
  },
  {
   "cell_type": "code",
   "execution_count": null,
   "id": "f9d59201",
   "metadata": {},
   "outputs": [
    {
     "name": "stdout",
     "output_type": "stream",
     "text": [
      "채식주의자를 위한 메뉴로는 다음과 같은 옵션을 추천드립니다:\n",
      "\n",
      "1. **가든 샐러드** - 가격: ₩12,000\n",
      "   - 신선한 유기농 채소들로 구성된 건강한 샐러드입니다. 아삭한 믹스 그린에 달콤한 체리 토마토, 오이, 당근을 더해 다양한 맛과 식감을 즐길 수 있습니다. 특제 발사믹 드레싱이 채소 본연의 맛을 살려줍니다.\n",
      "\n",
      "2. **버섯 크림 수프** - 가격: ₩10,000\n",
      "   - 양송이버섯과 표고버섯을 오랜 시간 정성스레 끓여 만든 크림 수프입니다. 부드러운 텍스처와 깊은 버섯 향이 특징이며, 최상급 트러플 오일을 살짝 뿌려 고급스러운 향을 더했습니다. \n",
      "\n",
      "이 두 가지 메뉴는 채식주의자에게 적합하며, 건강하고 맛있는 선택이 될 것입니다.\n"
     ]
    }
   ],
   "source": [
    "from langchain_chroma import Chroma\n",
    "from langchain_ollama import OllamaEmbeddings\n",
    "from langchain_openai import ChatOpenAI\n",
    "from langchain_core.messages import HumanMessage, AIMessage\n",
    "from langchain_core.output_parsers import StrOutputParser\n",
    "from langchain_core.prompts import ChatPromptTemplate\n",
    "from langchain_core.runnables import RunnablePassthrough, RunnableLambda\n",
    "\n",
    "embeddings_model = OllamaEmbeddings(model='bge-m3:latest')\n",
    "\n",
    "vector_db = Chroma(\n",
    "    embedding_function=embeddings_model,\n",
    "    collection_name=\"restaurant_menu\",\n",
    "    persist_directory=\"../../chroma_db\"\n",
    ")\n",
    "llm = ChatOpenAI(model=\"gpt-4o-mini\")\n",
    "def format_docs(docs):\n",
    "    return \"\\n\\n\".join(doc.page_content for doc in docs)\n",
    "\n",
    "system = \"\"\"\n",
    "You are a helpful assistant. Use the following context to answer the user's question:\n",
    "[context]\n",
    "{context}\n",
    "\"\"\"\n",
    "prompt = ChatPromptTemplate.from_messages([\n",
    "    (\"system\", system),\n",
    "    (\"human\", \"{question}\")\n",
    "])\n",
    "\n",
    "retriever = vector_db.as_retriever(\n",
    "    search_kwargs={\"k\":2}\n",
    ")\n",
    "#RunnablePassThrough()를 이용해서 retriever와 question에 동일한 값 전달\n",
    "rag_chain = (\n",
    "    {\"context\":retriever | format_docs, \"question\" : RunnablePassthrough()}\n",
    "    | prompt\n",
    "    | llm\n",
    "    | StrOutputParser()\n",
    ")\n",
    "\n",
    "query = \"채식주의자를 위한 메뉴를 추천해주세요.\"\n",
    "response = rag_chain.invoke(query)\n",
    "\n",
    "print(response)"
   ]
  },
  {
   "cell_type": "code",
   "execution_count": 22,
   "id": "1f9c7167",
   "metadata": {},
   "outputs": [],
   "source": [
    "def retrieve_and_respond(state: GraphState):\n",
    "    last_human_message = state['messages'][-1]\n",
    "    query = last_human_message.content\n",
    "    \n",
    "    retrieved_docs = retriever.invoke(query)\n",
    "    response = rag_chain.invoke(query)\n",
    "    return{\n",
    "        \"messages\" :[AIMessage(content=response)],\n",
    "        \"documents\": retrieved_docs\n",
    "    }"
   ]
  },
  {
   "cell_type": "code",
   "execution_count": 23,
   "id": "2cfa6b91",
   "metadata": {},
   "outputs": [],
   "source": [
    "from  pydantic import  BaseModel, Field\n",
    "'''\n",
    "스키마 정의\n",
    "'''\n",
    "class GradeResponse(BaseModel):\n",
    "    \"A score for answer\"\n",
    "    score: float = Field(..., ge=0, le=1, description=\"A score from 0 to 1, where 1 is perfect\")\n",
    "    explanation: str = Field(..., description=\"An explanation for the given score\")\n",
    "'''\n",
    "답변의 품질을 평가하는 노드\n",
    "'''\n",
    "def grade_answer(state: GraphState):\n",
    "    messages = state['messages']\n",
    "    question = messages[-2].content\n",
    "    answer = messages[-1].content\n",
    "    context = format_docs(state['documents'])\n",
    "    \n",
    "    grading_system = \"\"\"You are an expert grader.\n",
    "    Grade the following answer based on its relevance and accuracy to the question, condsidering the given context.\n",
    "    Provide a score from 0 to 1, where 1 is perfect, along wit an explatnation\n",
    "    \"\"\"\n",
    "    grading_prompt = ChatPromptTemplate.from_messages({\n",
    "        (\"system\", grading_system),\n",
    "        (\"human\", \"[Question]\\n{question}\\n\\n[Context]\\n{context}\\n\\n[Answer]\\n{answer}\\n\\n[Grade]\\n\")\n",
    "    })\n",
    "    grading_chain = grading_prompt | llm.with_structured_output(schema=GradeResponse)\n",
    "    \n",
    "    grade_response = grading_chain.invoke({\n",
    "        \"question\": question,\n",
    "        \"context\": context,\n",
    "        \"answer\": answer\n",
    "    })\n",
    "    \n",
    "    num_generation = state.get('num_generation', 0)\n",
    "    num_generation += 1\n",
    "    return {\"grade\": grade_response.score, \"num_generation\":num_generation} "
   ]
  },
  {
   "cell_type": "code",
   "execution_count": 24,
   "id": "fd4c205f",
   "metadata": {},
   "outputs": [],
   "source": [
    "from typing import Literal\n",
    "\n",
    "def should_retry(state: GraphState) -> Literal[\"retrieve_and_respond\", \"generate\"]:\n",
    "    print(\"--Gradting--\")\n",
    "    print(\"Grade Score: \", state['grade'])\n",
    "    \n",
    "    if state[\"num_generation\"] > 2:\n",
    "        return \"generate\"\n",
    "    \n",
    "    if state[\"grade\"] < 0.7:\n",
    "        return \"retrieve_and_respond\"\n",
    "    else:\n",
    "        return \"generate\""
   ]
  },
  {
   "cell_type": "code",
   "execution_count": 25,
   "id": "20637f1c",
   "metadata": {},
   "outputs": [],
   "source": [
    "builder = StateGraph(GraphState)\n",
    "builder.add_node(\"retrieve_and_respond\", retrieve_and_respond)\n",
    "builder.add_node(\"grade_answer\", grade_answer)\n",
    "\n",
    "builder.add_edge(START, \"retrieve_and_respond\")\n",
    "builder.add_edge(\"retrieve_and_respond\", \"grade_answer\")\n",
    "builder.add_conditional_edges(\n",
    "    \"grade_answer\",\n",
    "    should_retry,\n",
    "    {\n",
    "        \"retrieve_and_respond\":\"retrieve_and_respond\",\n",
    "        \"generate\": END\n",
    "    }\n",
    ")\n",
    "graph = builder.compile()"
   ]
  },
  {
   "cell_type": "code",
   "execution_count": 26,
   "id": "4eccf783",
   "metadata": {},
   "outputs": [
    {
     "name": "stdout",
     "output_type": "stream",
     "text": [
      "---\n",
      "config:\n",
      "  flowchart:\n",
      "    curve: linear\n",
      "---\n",
      "graph TD;\n",
      "\t__start__([<p>__start__</p>]):::first\n",
      "\tretrieve_and_respond(retrieve_and_respond)\n",
      "\tgrade_answer(grade_answer)\n",
      "\t__end__([<p>__end__</p>]):::last\n",
      "\t__start__ --> retrieve_and_respond;\n",
      "\tretrieve_and_respond --> grade_answer;\n",
      "\tgrade_answer -.-> retrieve_and_respond;\n",
      "\tgrade_answer -. &nbsp;generate&nbsp; .-> __end__;\n",
      "\tclassDef default fill:#f2f0ff,line-height:1.2\n",
      "\tclassDef first fill-opacity:0\n",
      "\tclassDef last fill:#bfb6fc\n",
      "\n"
     ]
    }
   ],
   "source": [
    "shape = graph.get_graph().draw_mermaid()\n",
    "print(shape)"
   ]
  },
  {
   "cell_type": "code",
   "execution_count": 27,
   "id": "32624935",
   "metadata": {},
   "outputs": [
    {
     "name": "stdout",
     "output_type": "stream",
     "text": [
      "--Gradting--\n",
      "Grade Score:  1.0\n",
      "최종 상태:  {'messages': [HumanMessage(content='채식주의자를 위한 메뉴를 추천해주세요', additional_kwargs={}, response_metadata={}, id='4243cfd7-9045-4a4a-9206-2502b016bd33'), AIMessage(content='채식주의자를 위한 메뉴로는 다음과 같은 옵션을 추천드립니다:\\n\\n1. **가든 샐러드** - ₩12,000\\n   - 신선한 유기농 채소들로 구성된 건강한 샐러드입니다. 아삭한 식감의 믹스 그린에 달콤한 체리 토마토, 오이, 당근을 더해 다양한 맛과 식감을 즐길 수 있습니다. 특제 발사믹 드레싱이 채소 본연의 맛을 살려줍니다.\\n\\n2. **버섯 크림 수프** - ₩10,000\\n   - 양송이버섯과 표고버섯을 오랜 시간 정성스레 끓여 만든 크림 수프입니다. 부드러운 텍스처와 깊은 버섯 향이 특징이며, 최상급 트러플 오일을 살짝 뿌려 고급스러운 향을 더했습니다.\\n\\n3. **트러플 리조또** - ₩22,000\\n   - 크리미한 텍스처의 리조또에 고급 블랙 트러플을 듬뿍 얹어 풍부한 향과 맛을 즐길 수 있는 메뉴입니다. 24개월 숙성된 파르미지아노 레지아노 치즈를 사용하여 깊은 맛을 더했습니다.\\n\\n이 메뉴들은 모두 채식주의자에게 적합하며 맛도 뛰어난 요리들입니다.', additional_kwargs={}, response_metadata={}, id='25a6619b-3a28-4f81-aeb6-d27f64a607d3')], 'documents': [Document(metadata={'menu_name': '시그니처 스테이크', 'menu_number': 1, 'source': '../../data/restaurant_menu.txt'}, page_content='1. 시그니처 스테이크\\n   • 가격: ₩35,000\\n   • 주요 식재료: 최상급 한우 등심, 로즈메리 감자, 그릴드 아스파라거스\\n   • 설명: 셰프의 특제 시그니처 메뉴로, 21일간 건조 숙성한 최상급 한우 등심을 사용합니다. 미디엄 레어로 조리하여 육즙을 최대한 보존하며, 로즈메리 향의 감자와 아삭한 그릴드 아스파라거스가 곁들여집니다. 레드와인 소스와 함께 제공되어 풍부한 맛을 더합니다.\\n\\n2. 트러플 리조또\\n   • 가격: ₩22,000\\n   • 주요 식재료: 이탈리아산 아르보리오 쌀, 블랙 트러플, 파르미지아노 레지아노 치즈\\n   • 설명: 크리미한 텍스처의 리조또에 고급 블랙 트러플을 듬뿍 얹어 풍부한 향과 맛을 즐길 수 있는 메뉴입니다. 24개월 숙성된 파르미지아노 레지아노 치즈를 사용하여 깊은 맛을 더했으며, 주문 즉시 조리하여 최상의 상태로 제공됩니다.\\n\\n3. 연어 타르타르\\n   • 가격: ₩18,000\\n   • 주요 식재료: 노르웨이산 생연어, 아보카도, 케이퍼, 적양파\\n   • 설명: 신선한 노르웨이산 생연어를 곱게 다져 아보카도, 케이퍼, 적양파와 함께 섞어 만든 타르타르입니다. 레몬 드레싱으로 상큼한 맛을 더했으며, 바삭한 브리오쉬 토스트와 함께 제공됩니다. 전채요리로 완벽한 메뉴입니다.\\n\\n4. 버섯 크림 수프\\n   • 가격: ₩10,000\\n   • 주요 식재료: 양송이버섯, 표고버섯, 생크림, 트러플 오일\\n   • 설명: 양송이버섯과 표고버섯을 오랜 시간 정성스레 끓여 만든 크림 수프입니다. 부드러운 텍스처와 깊은 버섯 향이 특징이며, 최상급 트러플 오일을 살짝 뿌려 고급스러운 향을 더했습니다. 파슬리를 곱게 다져 고명으로 올려 제공됩니다.\\n\\n5. 가든 샐러드\\n   • 가격: ₩12,000\\n   • 주요 식재료: 유기농 믹스 그린, 체리 토마토, 오이, 당근, 발사믹 드레싱\\n   • 설명: 신선한 유기농 채소들로 구성된 건강한 샐러드입니다. 아삭한 식감의 믹스 그린에 달콤한 체리 토마토, 오이, 당근을 더해 다양한 맛과 식감을 즐길 수 있습니다. 특제 발사믹 드레싱이 채소 본연의 맛을 살려줍니다.\\n\\n6. 해산물 파스타\\n   • 가격: ₩24,000\\n   • 주요 식재료: 링귀네 파스타, 새우, 홍합, 오징어, 토마토 소스\\n   • 설명: 알 덴테로 삶은 링귀네 파스타에 신선한 해산물을 듬뿍 올린 메뉴입니다. 토마토 소스의 산미와 해산물의 감칠맛이 조화를 이루며, 마늘과 올리브 오일로 풍미를 더했습니다. 파슬리를 뿌려 향긋한 맛을 더합니다.\\n\\n7. 랍스터 비스크\\n   • 가격: ₩28,000\\n   • 주요 식재료: 랍스터, 생크림, 브랜디, 파프리카\\n   • 설명: 랍스터 껍질과 육수로 오랜 시간 우려낸 진한 비스크 수프입니다. 생크림으로 부드러운 질감을 더하고 브랜디로 깊은 풍미를 살렸습니다. 작은 랍스터 살을 토핑으로 올려 고급스러움을 더했습니다.\\n\\n8. 안심 스테이크 샐러드\\n   • 가격: ₩26,000\\n   • 주요 식재료: 소고기 안심, 루꼴라, 체리 토마토, 발사믹 글레이즈\\n   • 설명: 부드러운 안심 스테이크를 얇게 슬라이스하여 신선한 루꼴라 위에 올린 메인 요리 샐러드입니다. 체리 토마토와 파마산 치즈 플레이크로 풍미를 더하고, 발사믹 글레이즈로 마무리하여 고기의 풍미를 한층 끌어올렸습니다.\\n\\n9. 치킨 콘피\\n   • 가격: ₩23,000\\n   • 주요 식재료: 닭다리살, 허브, 마늘, 올리브 오일\\n   • 설명: 닭다리살을 허브와 마늘을 넣은 올리브 오일에 저온에서 장시간 조리한 프랑스 요리입니다. 부드럽고 촉촉한 육질이 특징이며, 로즈메리 감자와 제철 채소를 곁들여 제공합니다. 레몬 제스트를 뿌려 상큼한 향을 더했습니다.\\n\\n10. 티라미수\\n    • 가격: ₩9,000\\n    • 주요 식재료: 마스카포네 치즈, 에스프레소, 카카오 파우더, 레이디핑거 비스킷\\n    • 설명: 부드러운 마스카포네 치즈 크림과 에스프레소에 적신 레이디핑거 비스킷을 층층이 쌓아 만든 이탈리아 정통 디저트입니다. 고소한 카카오 파우더를 듬뿍 뿌려 풍미를 더했습니다. 커피의 쌉싸름함과 치즈의 부드러움이 조화롭게 어우러집니다.'), Document(metadata={'menu_name': '샤토 마고 2015', 'menu_number': 1, 'source': '../../data/restaurant_wine.txt'}, page_content='1. 샤토 마고 2015\\n   • 가격: ₩450,000\\n   • 주요 품종: 카베르네 소비뇽, 메를로, 카베르네 프랑, 쁘띠 베르도\\n   • 설명: 보르도 메독 지역의 프리미엄 와인으로, 깊고 복잡한 풍미가 특징입니다. 블랙커런트, 블랙베리의 과실향과 함께 시더, 담배, 가죽 노트가 어우러집니다. 탄닌이 부드럽고 균형 잡힌 구조를 가지며, 긴 여운이 인상적입니다. 숙성 잠재력이 뛰어나 10-20년 이상 보관이 가능합니다.\\n\\n2. 돔 페리뇽 2012\\n   • 가격: ₩380,000\\n   • 주요 품종: 샤르도네, 피노 누아\\n   • 설명: 프랑스 샴페인의 대명사로 알려진 프레스티지 큐베입니다. 시트러스, 백도, 브리오쉬의 아로마가 조화롭게 어우러지며, 미네랄리티가 돋보입니다. 섬세하고 지속적인 버블과 크리미한 무스, 긴 여운이 특징입니다. 우아함과 복잡성이 완벽한 균형을 이룹니다.\\n\\n3. 사시카이아 2018\\n   • 가격: ₩420,000\\n   • 주요 품종: 카베르네 소비뇽, 카베르네 프랑, 메를로\\n   • 설명: 이탈리아 토스카나의 슈퍼 투스칸 와인입니다. 블랙베리, 카시스의 강렬한 과실향과 함께 허브, 가죽, 스파이스 노트가 복잡성을 더합니다. 풀바디이지만 우아한 타닌과 신선한 산도가 균형을 잡아줍니다. 오크 숙성으로 인한 바닐라, 초콜릿 향이 은은하게 느껴집니다.\\n\\n4. 클로 뒤 발 2016\\n   • 가격: ₩1,200,000\\n   • 주요 품종: 카베르네 소비뇽, 메를로, 카베르네 프랑\\n   • 설명: 나파 밸리의 아이콘 와인으로, 극도로 제한된 생산량을 자랑합니다. 블랙베리, 카시스, 자두의 농축된 과실향과 함께 모카, 리코리스, 시가 박스의 복잡한 향이 어우러집니다. 놀라운 집중도와 깊이, 실키한 타닌, 완벽한 균형감이 특징이며, 수십 년의 숙성 잠재력을 가집니다.\\n\\n5. 푸이 퓌세 2019\\n   • 가격: ₩95,000\\n   • 주요 품종: 소비뇽 블랑\\n   • 설명: 프랑스 루아르 지역의 대표적인 화이트 와인입니다. 구스베리, 레몬, 라임의 상큼한 과실향과 함께 미네랄, 허브 노트가 특징적입니다. 날카로운 산도와 깔끔한 피니시가 인상적이며, 신선한 굴이나 해산물 요리와 탁월한 페어링을 이룹니다.\\n\\n6. 바롤로 몬프리바토 2017\\n   • 가격: ₩280,000\\n   • 주요 품종: 네비올로\\n   • 설명: 이탈리아 피에몬테 지역의 프리미엄 레드 와인입니다. 붉은 체리, 장미, 타르의 복잡한 아로마가 특징이며, 가죽, 담배, 스파이스 노트가 더해집니다. 강렬한 타닌과 높은 산도가 인상적이며, 긴 숙성 잠재력을 가집니다. 숙성된 치즈나 트러플 요리와 잘 어울립니다.\\n\\n7. 풀리니 몽라쉐 1er Cru 2018\\n   • 가격: ₩320,000\\n   • 주요 품종: 샤르도네\\n   • 설명: 부르고뉴 최고의 화이트 와인 중 하나로 꼽힙니다. 레몬, 사과, 배의 과실향과 함께 헤이즐넛, 버터, 바닐라의 풍부한 향이 어우러집니다. 미네랄리티가 돋보이며, 크리미한 텍스처와 긴 여운이 특징입니다. 해산물, 닭고기, 크림 소스 파스타와 좋은 페어링을 이룹니다.\\n\\n8. 오퍼스 원 2017\\n   • 가격: ₩650,000\\n   • 주요 품종: 카베르네 소비뇽, 카베르네 프랑, 메를로, 쁘띠 베르도\\n   • 설명: 캘리포니아 나파 밸리의 아이콘 와인입니다. 블랙베리, 카시스, 자두의 농축된 과실향과 함께 초콜릿, 에스프레소, 바닐라의 복잡한 향이 어우러집니다. 풀바디이면서도 우아한 구조를 가지며, 실키한 타닌과 긴 여운이 인상적입니다. 20-30년 이상의 숙성 잠재력을 가집니다.\\n\\n9. 샤토 디켐 2015\\n   • 가격: ₩800,000 (375ml)\\n   • 주요 품종: 세미용, 소비뇽 블랑\\n   • 설명: 보르도 소테른 지역의 legendary 디저트 와인입니다. 아프리콧, 복숭아, 파인애플의 농축된 과실향과 함께 꿀, 사프란, 바닐라의 복잡한 향이 어우러집니다. 놀라운 농축도와 균형 잡힌 산도, 긴 여운이 특징이며, 100년 이상 숙성 가능한 와인으로 알려져 있습니다.\\n\\n10. 그랜지 2016\\n    • 가격: ₩950,000\\n    • 주요 품종: 시라\\n    • 설명: 호주의 대표적인 아이콘 와인입니다. 블랙베리, 자두, 블랙 올리브의 강렬한 과실향과 함께 유칼립투스, 초콜릿, 가죽의 복잡한 향이 어우러집니다. 풀바디이며 강렬한 타닌과 산도가 특징적입니다. 놀라운 집중도와 깊이, 긴 여운을 자랑하며, 수십 년의 숙성 잠재력을 가집니다.')], 'grade': 1.0, 'num_generation': 1}\n"
     ]
    }
   ],
   "source": [
    "initial_state = {\n",
    "    \"messages\": [HumanMessage(content=\"채식주의자를 위한 메뉴를 추천해주세요\")],\n",
    "}\n",
    "final_state = graph.invoke(initial_state)\n",
    "print(\"최종 상태: \", final_state)"
   ]
  },
  {
   "cell_type": "code",
   "execution_count": 28,
   "id": "875754b1",
   "metadata": {},
   "outputs": [
    {
     "name": "stdout",
     "output_type": "stream",
     "text": [
      "Running on local URL:  http://127.0.0.1:7860\n",
      "\n",
      "To create a public link, set `share=True` in `launch()`.\n"
     ]
    },
    {
     "data": {
      "text/html": [
       "<div><iframe src=\"http://127.0.0.1:7860/\" width=\"100%\" height=\"500\" allow=\"autoplay; camera; microphone; clipboard-read; clipboard-write;\" frameborder=\"0\" allowfullscreen></iframe></div>"
      ],
      "text/plain": [
       "<IPython.core.display.HTML object>"
      ]
     },
     "metadata": {},
     "output_type": "display_data"
    },
    {
     "data": {
      "text/plain": []
     },
     "execution_count": 28,
     "metadata": {},
     "output_type": "execute_result"
    },
    {
     "name": "stdout",
     "output_type": "stream",
     "text": [
      "--Gradting--\n",
      "Grade Score:  1.0\n",
      "--Gradting--\n",
      "Grade Score:  1.0\n",
      "--Gradting--\n",
      "Grade Score:  1.0\n",
      "--Gradting--\n",
      "Grade Score:  0.5\n",
      "--Gradting--\n",
      "Grade Score:  1.0\n"
     ]
    }
   ],
   "source": [
    "import gradio as gr\n",
    "from typing import List, Tuple\n",
    "\n",
    "# 예시 질문들\n",
    "example_questions = [\n",
    "    \"채식주의자를 위한 메뉴를 추천해주세요.\",\n",
    "    \"오늘의 스페셜 메뉴는 무엇인가요?\",\n",
    "    \"파스타에 어울리는 음료는 무엇인가요?\"\n",
    "]\n",
    "\n",
    "# 대답 함수 정의\n",
    "def answer_invoke(message: str, history: List[Tuple[str, str]]) -> str:\n",
    "    try:\n",
    "        # 채팅 기록을 AI에게 전달할 수 있는 형식으로 변환\n",
    "        chat_history = []\n",
    "        for human, ai in history:\n",
    "            chat_history.append(HumanMessage(content=human))\n",
    "            chat_history.append(AIMessage(content=ai))\n",
    "\n",
    "        # 기존 채팅 기록에 사용자의 메시지를 추가 (최근 2개 대화만 사용)\n",
    "        initial_state = {\n",
    "            \"messages\": chat_history[-2:]+[HumanMessage(content=message)],  \n",
    "        }\n",
    "\n",
    "        # 메시지를 처리하고 최종 상태를 반환\n",
    "        final_state = graph.invoke(initial_state)\n",
    "        \n",
    "        # 최종 상태에서 필요한 부분 반환 (예: 추천 메뉴 등)\n",
    "        return final_state[\"messages\"][-1].content\n",
    "        \n",
    "    except Exception as e:\n",
    "        # 오류 발생 시 사용자에게 알리고 로그 기록\n",
    "        print(f\"Error occurred: {str(e)}\")\n",
    "        return \"죄송합니다. 응답을 생성하는 동안 오류가 발생했습니다. 다시 시도해 주세요.\"\n",
    "\n",
    "\n",
    "# Gradio 인터페이스 생성\n",
    "demo = gr.ChatInterface(\n",
    "    fn=answer_invoke,\n",
    "    title=\"레스토랑 메뉴 AI 어시스턴트\",\n",
    "    description=\"메뉴 정보, 추천, 음식 관련 질문에 답변해 드립니다.\",\n",
    "    examples=example_questions,\n",
    "    theme=gr.themes.Soft()\n",
    ")\n",
    "\n",
    "# Gradio 앱 실행\n",
    "demo.launch()\n"
   ]
  },
  {
   "cell_type": "code",
   "execution_count": 29,
   "id": "0b0cc325",
   "metadata": {},
   "outputs": [
    {
     "name": "stdout",
     "output_type": "stream",
     "text": [
      "Closing server running on port: 7860\n"
     ]
    }
   ],
   "source": [
    "demo.close()"
   ]
  },
  {
   "cell_type": "code",
   "execution_count": null,
   "id": "893a1fe6",
   "metadata": {},
   "outputs": [],
   "source": []
  }
 ],
 "metadata": {
  "kernelspec": {
   "display_name": "langgraph-agent-OZfUZoQB-py3.11",
   "language": "python",
   "name": "python3"
  },
  "language_info": {
   "codemirror_mode": {
    "name": "ipython",
    "version": 3
   },
   "file_extension": ".py",
   "mimetype": "text/x-python",
   "name": "python",
   "nbconvert_exporter": "python",
   "pygments_lexer": "ipython3",
   "version": "3.11.11"
  }
 },
 "nbformat": 4,
 "nbformat_minor": 5
}
