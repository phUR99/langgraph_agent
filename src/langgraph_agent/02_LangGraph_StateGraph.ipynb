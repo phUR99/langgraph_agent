{
 "cells": [
  {
   "cell_type": "code",
   "execution_count": 2,
   "id": "21d8a50c",
   "metadata": {},
   "outputs": [
    {
     "data": {
      "text/plain": [
       "True"
      ]
     },
     "execution_count": 2,
     "metadata": {},
     "output_type": "execute_result"
    }
   ],
   "source": [
    "from dotenv import load_dotenv\n",
    "load_dotenv()"
   ]
  },
  {
   "cell_type": "code",
   "execution_count": 3,
   "id": "30a66040",
   "metadata": {},
   "outputs": [],
   "source": [
    "import re, os, json\n",
    "from textwrap import dedent\n",
    "from pprint import pprint\n",
    "\n",
    "import warnings\n",
    "warnings.filterwarnings(\"ignore\")"
   ]
  },
  {
   "cell_type": "code",
   "execution_count": 5,
   "id": "96f6199e",
   "metadata": {},
   "outputs": [],
   "source": [
    "from typing import TypedDict\n",
    "\n",
    "#상태 스키마 정의 - 사용자의 선호도, 추천된 메뉴, 메뉴 정보 저장\n",
    "class MenuState(TypedDict):\n",
    "    user_preference: str\n",
    "    recommended_menu: str\n",
    "    menu_info: str"
   ]
  },
  {
   "cell_type": "code",
   "execution_count": 8,
   "id": "b564739f",
   "metadata": {},
   "outputs": [],
   "source": [
    "import random\n",
    "def get_user_preference(state: MenuState) -> MenuState:\n",
    "    print(\"랜덤 사용자 선호도 생성하기...\")\n",
    "    preferences = [\"육류\", \"해산물\", \"채식\", \"아무거나\"]\n",
    "    preference = random.choice(preferences)\n",
    "    print(f\"생성 선호: {preference}\")\n",
    "    return {\"user_preference\":preference}\n",
    "\n",
    "def recommend_menu(state:MenuState) -> MenuState:\n",
    "    print(\"메뉴 추천...\")\n",
    "    preference = state['user_preference']\n",
    "    menus = {\"육류\": \"스테이크\", \"해산물\":\"랍스터 파스타\", \"채식\":\"그린 샐러드\", \"아무거나\":\"오늘의 쉐프 특선\"}\n",
    "    menu = menus[preference]\n",
    "    print(f\"추천 메뉴: {menu}\")\n",
    "    return {\"recommended_menu\":menu}\n",
    "\n",
    "def provided_menu_info(state: MenuState) -> MenuState:\n",
    "    print(\"메뉴 정보 제공....\")\n",
    "    menu = state['recommended_menu']\n",
    "    infos ={\n",
    "        \"스테이크\":\"최상급 소고기로 만든, 쥬시한 스테이크입니다. 가격: 30,000W\", \\\n",
    "        \"랍스터 파스타\":\"신선한 랍스터와 알 단테 파스타의 조화. 가격: 28,000W\",\\\n",
    "        \"그린 샐러드\":\"신선한 유기농 채소로 만든 건강한 샐러드. 가격: 15,000W\",\n",
    "        \"오늘의 쉐프 특선\":\"쉐프가 그날그날 엄선한 특별 요리입니다. 가격: 35,000W\"\n",
    "    }\n",
    "    info = infos[menu]\n",
    "    print(f\"메뉴 정보:{info}\")\n",
    "    return {\"menu_info\":info}\n",
    "    \n",
    "    "
   ]
  },
  {
   "cell_type": "code",
   "execution_count": 9,
   "id": "aba5f966",
   "metadata": {},
   "outputs": [],
   "source": [
    "from langgraph.graph import StateGraph, START, END\n",
    "\n",
    "builder= StateGraph(MenuState)\n",
    "\n",
    "builder.add_node(\"get_preference\", get_user_preference)\n",
    "builder.add_node(\"recommend\", recommend_menu)\n",
    "builder.add_node(\"provide_info\", provided_menu_info)\n",
    "\n",
    "builder.add_edge(START, \"get_preference\")\n",
    "builder.add_edge(\"get_preference\", \"recommend\")\n",
    "builder.add_edge(\"recommend\", \"provide_info\")\n",
    "builder.add_edge(\"provide_info\", END)\n",
    "\n",
    "graph = builder.compile()"
   ]
  },
  {
   "cell_type": "code",
   "execution_count": 12,
   "id": "1ca1e805",
   "metadata": {},
   "outputs": [
    {
     "data": {
      "text/plain": [
       "<langgraph.graph.state.CompiledStateGraph at 0x124790d50>"
      ]
     },
     "execution_count": 12,
     "metadata": {},
     "output_type": "execute_result"
    }
   ],
   "source": [
    "graph"
   ]
  },
  {
   "cell_type": "code",
   "execution_count": 16,
   "id": "b1d8a4bc",
   "metadata": {},
   "outputs": [
    {
     "name": "stdout",
     "output_type": "stream",
     "text": [
      "---\n",
      "config:\n",
      "  flowchart:\n",
      "    curve: linear\n",
      "---\n",
      "graph TD;\n",
      "\t__start__([<p>__start__</p>]):::first\n",
      "\tget_preference(get_preference)\n",
      "\trecommend(recommend)\n",
      "\tprovide_info(provide_info)\n",
      "\t__end__([<p>__end__</p>]):::last\n",
      "\t__start__ --> get_preference;\n",
      "\tget_preference --> recommend;\n",
      "\tprovide_info --> __end__;\n",
      "\trecommend --> provide_info;\n",
      "\tclassDef default fill:#f2f0ff,line-height:1.2\n",
      "\tclassDef first fill-opacity:0\n",
      "\tclassDef last fill:#bfb6fc\n",
      "\n"
     ]
    }
   ],
   "source": [
    "from IPython.display import Image, display\n",
    "print(graph.get_graph().draw_mermaid())"
   ]
  },
  {
   "cell_type": "code",
   "execution_count": 18,
   "id": "149f0525",
   "metadata": {},
   "outputs": [
    {
     "name": "stdout",
     "output_type": "stream",
     "text": [
      "랜덤 사용자 선호도 생성하기...\n",
      "생성 선호: 육류\n",
      "메뉴 추천...\n",
      "추천 메뉴: 스테이크\n",
      "메뉴 정보 제공....\n",
      "메뉴 정보:최상급 소고기로 만든, 쥬시한 스테이크입니다. 가격: 30,000W\n",
      "결과...\n",
      "육류, 스테이크, 최상급 소고기로 만든, 쥬시한 스테이크입니다. 가격: 30,000W\n",
      "****************************************************************************************************\n",
      "랜덤 사용자 선호도 생성하기...\n",
      "생성 선호: 해산물\n",
      "메뉴 추천...\n",
      "추천 메뉴: 랍스터 파스타\n",
      "메뉴 정보 제공....\n",
      "메뉴 정보:신선한 랍스터와 알 단테 파스타의 조화. 가격: 28,000W\n",
      "결과...\n",
      "해산물, 랍스터 파스타, 신선한 랍스터와 알 단테 파스타의 조화. 가격: 28,000W\n",
      "****************************************************************************************************\n"
     ]
    }
   ],
   "source": [
    "def print_result(result:MenuState):\n",
    "    print(\"결과...\")\n",
    "    print(result[\"user_preference\"], result[\"recommended_menu\"], result[\"menu_info\"], sep=', ')\n",
    "\n",
    "inputs = {\"user_preference\": \"\"}\n",
    "for _ in range(2):\n",
    "    result = graph.invoke(inputs)\n",
    "    print_result(result)\n",
    "    print(\"*\"*100)"
   ]
  },
  {
   "cell_type": "code",
   "execution_count": 2,
   "id": "4e183c21",
   "metadata": {},
   "outputs": [],
   "source": [
    "from typing import TypedDict, List\n",
    "\n",
    "class MenuState(TypedDict):\n",
    "    user_query: str\n",
    "    is_menu_related: bool\n",
    "    search_results: List[str]\n",
    "    final_answer:str\n",
    "    "
   ]
  },
  {
   "cell_type": "code",
   "execution_count": 4,
   "id": "cd9ab822",
   "metadata": {},
   "outputs": [],
   "source": [
    "from langchain_chroma import Chroma\n",
    "from langchain_ollama import OllamaEmbeddings\n",
    "\n",
    "embedding_model = OllamaEmbeddings(model=\"bge-m3:latest\")\n",
    "\n",
    "vector_db = Chroma(\n",
    "    embedding_function=embedding_model,\n",
    "    collection_name=\"restaurant_menu\",\n",
    "    persist_directory=\"../../chroma_db\",\n",
    ")"
   ]
  },
  {
   "cell_type": "code",
   "execution_count": 19,
   "id": "7d50035f",
   "metadata": {},
   "outputs": [],
   "source": [
    "from langchain_core.prompts import ChatPromptTemplate\n",
    "from langchain_core.output_parsers import StrOutputParser\n",
    "from langchain_openai import ChatOpenAI\n",
    "\n",
    "llm = ChatOpenAI(model=\"gpt-4o-mini\")\n",
    "\n",
    "def get_user_query(state:MenuState) -> MenuState:\n",
    "    user_query = input(\"무엇을 도와드릴까요? \")\n",
    "    return {\"user_query\" : user_query}\n",
    "\n",
    "def analyze_input(state:MenuState) -> MenuState:\n",
    "    analyze_template = \"\"\"\n",
    "    사용자의 입력을 분석하여 레스토랑 메뉴 추천이나 음식 정보에 관한 질문인지를 판단하세요.\n",
    "    사용자 입력:{user_query}\n",
    "    레스토랑 메뉴나 음식 정보에 관한 질문이면 \"True\", 아니면 \"False\"로 답변하세요.\n",
    "    답변:\n",
    "    \n",
    "    \"\"\"\n",
    "    analyze_prompt = ChatPromptTemplate.from_template(analyze_template)\n",
    "    analyze_chain = analyze_prompt | llm | StrOutputParser()\n",
    "    \n",
    "    result = analyze_chain.invoke({\"user_query\": state['user_query']})\n",
    "    is_menu_related = result.strip().lower() == \"true\"\n",
    "    return {\"is_menu_related\" : is_menu_related}\n",
    "\n",
    "def search_menu_info(state: MenuState) -> MenuState:\n",
    "    results = vector_db.similarity_search(state['user_query'], k=2)\n",
    "    search_results = [doc.page_content for doc in results]\n",
    "    return {\"search_results\":search_results}\n",
    "\n",
    "def generate_menu_response(state: MenuState) -> MenuState:\n",
    "    response_template = \"\"\"\n",
    "    사용자 입력: {user_query}\n",
    "    메뉴 관련 검색 결과: {search_results}\n",
    "    \n",
    "    위 정보를 바탕으로 사용자의 메뉴 관련 질문에 대한 상세한 답변을 생성하세요.\n",
    "    검색 결과의 정보를 활용하여 정확하고 유용한 정보를 제공하세요.\n",
    "    \n",
    "    답변:\n",
    "    \"\"\"\n",
    "    response_prompt = ChatPromptTemplate.from_template(response_template)\n",
    "    response_chain = response_prompt | llm | StrOutputParser()\n",
    "    \n",
    "    final_answer = response_chain.invoke(\n",
    "        {\n",
    "            \"user_query\":state['user_query'],\n",
    "            \"search_results\":state[\"search_results\"],\n",
    "            \n",
    "        },\n",
    "    )\n",
    "    print(f\"\\n메뉴 어시스턴트: {final_answer}\")\n",
    "    return {\"final_answer\" : final_answer}\n",
    "\n",
    "def generate_general_response(state: MenuState) -> MenuState:\n",
    "    response_template = \"\"\"\n",
    "    사용자 입력: {user_query}\n",
    "    \n",
    "    위 입력은 레스토랑 메뉴나 음식과 관련이 없습니다.\n",
    "    일반적인 대화 맥락에서 적절한 답변을 생성하세요.\n",
    "    \n",
    "    답변:\n",
    "    \"\"\"\n",
    "    response_prompt = ChatPromptTemplate.from_template(response_template)\n",
    "    response_chain = response_prompt | llm | StrOutputParser()\n",
    "    final_answer = response_chain.invoke({\"user_query\": state[\"user_query\"]})\n",
    "    print(f\"\\n일반 어시스턴트:{final_answer}\")\n",
    "    return {\"final_answer\":final_answer}     \n"
   ]
  },
  {
   "cell_type": "code",
   "execution_count": 8,
   "id": "d05b47db",
   "metadata": {},
   "outputs": [],
   "source": [
    "from typing import Literal\n",
    "\n",
    "def decide_next_step(state : MenuState) -> Literal[\"search_menu_info\", \"generate_general_response\"]:\n",
    "    if state['is_menu_related']:\n",
    "        return \"search_menu_info\"\n",
    "    else:\n",
    "        return \"generate_general_response\""
   ]
  },
  {
   "cell_type": "code",
   "execution_count": null,
   "id": "52d7c477",
   "metadata": {},
   "outputs": [],
   "source": [
    "from langgraph.graph import StateGraph, START, END\n",
    "\n",
    "builder = StateGraph(MenuState)\n",
    "\n",
    "builder.add_node(\"get_user_query\", get_user_query)\n",
    "builder.add_node(\"analyze_input\", analyze_input)\n",
    "builder.add_node(\"search_menu_info\", search_menu_info)\n",
    "builder.add_node(\"generate_menu_response\", generate_menu_response)\n",
    "builder.add_node(\"generate_general_response\", generate_general_response)\n",
    "\n",
    "builder.add_edge(START, \"get_user_query\")\n",
    "builder.add_edge(\"get_user_query\", \"analyze_input\")\n",
    "\n",
    "builder.add_conditional_edges(\n",
    "    \"analyze_input\", \n",
    "    decide_next_step, \n",
    "    {\n",
    "        \"search_menu_info\" : \"search_menu_info\",\n",
    "        \"generate_general_response\" : \"generate_general_response\"\n",
    "    }\n",
    ")\n",
    "\n",
    "builder.add_edge(\"search_menu_info\", \"generate_menu_response\")\n",
    "builder.add_edge(\"generate_menu_response\", END)\n",
    "builder.add_edge(\"generate_general_response\", END)\n",
    "\n",
    "graph = builder.compile()"
   ]
  },
  {
   "cell_type": "code",
   "execution_count": 15,
   "id": "cb4954f6",
   "metadata": {},
   "outputs": [
    {
     "name": "stdout",
     "output_type": "stream",
     "text": [
      "---\n",
      "config:\n",
      "  flowchart:\n",
      "    curve: linear\n",
      "---\n",
      "graph TD;\n",
      "\t__start__([<p>__start__</p>]):::first\n",
      "\tget_user_query(get_user_query)\n",
      "\tanalyze_input(analyze_input)\n",
      "\tsearch_menu_info(search_menu_info)\n",
      "\tgenerate_menu_response(generate_menu_response)\n",
      "\tgenerate_general_response(generate_general_response)\n",
      "\t__end__([<p>__end__</p>]):::last\n",
      "\t__start__ --> get_user_query;\n",
      "\tgenerate_general_response --> __end__;\n",
      "\tgenerate_menu_response --> __end__;\n",
      "\tget_user_query --> analyze_input;\n",
      "\tsearch_menu_info --> generate_menu_response;\n",
      "\tanalyze_input -.-> search_menu_info;\n",
      "\tanalyze_input -.-> generate_general_response;\n",
      "\tclassDef default fill:#f2f0ff,line-height:1.2\n",
      "\tclassDef first fill-opacity:0\n",
      "\tclassDef last fill:#bfb6fc\n",
      "\n"
     ]
    }
   ],
   "source": [
    "from IPython.display import Image, display\n",
    "print(graph.get_graph().draw_mermaid())"
   ]
  },
  {
   "cell_type": "code",
   "execution_count": 22,
   "id": "0357cc5f",
   "metadata": {},
   "outputs": [
    {
     "name": "stdout",
     "output_type": "stream",
     "text": [
      "\n",
      "메뉴 어시스턴트: 스테이크 메뉴의 가격은 다음과 같습니다:\n",
      "\n",
      "1. **시그니처 스테이크** - ₩35,000  \n",
      "   - **주요 식재료**: 최상급 한우 등심, 로즈메리 감자, 그릴드 아스파라거스  \n",
      "   - **설명**: 셰프의 특제 시그니처 메뉴로, 21일간 건조 숙성한 최상급 한우 등심을 사용합니다. 미디엄 레어로 조리하여 육즙을 최대한 보존하며, 로즈메리 향의 감자와 아삭한 그릴드 아스파라거스가 곁들여집니다. 레드와인 소스와 함께 제공되어 풍부한 맛을 더합니다.\n",
      "\n",
      "2. **안심 스테이크 샐러드** - ₩26,000  \n",
      "   - **주요 식재료**: 소고기 안심, 루꼴라, 체리 토마토, 발사믹 글레이즈  \n",
      "   - **설명**: 부드러운 안심 스테이크를 얇게 슬라이스하여 신선한 루꼴라 위에 올린 메인 요리 샐러드입니다. 체리 토마토와 파마산 치즈 플레이크로 풍미를 더하고, 발사믹 글레이즈로 마무리하여 고기의 풍미를 한층 끌어올렸습니다.\n",
      "\n",
      "이 두 가지 스테이크 메뉴가 있으며, 각각의 가격과 특징을 참고하여 선택하시면 좋겠습니다.\n",
      "\n",
      "일반 어시스턴트:미국의 수도는 워싱턴 D.C.입니다.\n"
     ]
    }
   ],
   "source": [
    "while True:\n",
    "    initial_state = {'user_query':''}\n",
    "    graph.invoke(initial_state)\n",
    "    continue_chat = input(\"다른 질문이 있으신가요? (y / n): \").lower()\n",
    "    if continue_chat != 'y':\n",
    "        break"
   ]
  },
  {
   "cell_type": "code",
   "execution_count": null,
   "id": "b637c3f2",
   "metadata": {},
   "outputs": [],
   "source": []
  }
 ],
 "metadata": {
  "kernelspec": {
   "display_name": "langgraph-agent-OZfUZoQB-py3.11",
   "language": "python",
   "name": "python3"
  },
  "language_info": {
   "codemirror_mode": {
    "name": "ipython",
    "version": 3
   },
   "file_extension": ".py",
   "mimetype": "text/x-python",
   "name": "python",
   "nbconvert_exporter": "python",
   "pygments_lexer": "ipython3",
   "version": "3.11.11"
  }
 },
 "nbformat": 4,
 "nbformat_minor": 5
}
